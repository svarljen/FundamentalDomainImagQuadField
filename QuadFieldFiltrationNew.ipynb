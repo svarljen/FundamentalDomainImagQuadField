{
 "cells": [
  {
   "cell_type": "code",
   "execution_count": 1,
   "metadata": {},
   "outputs": [],
   "source": [
    "def DenominatorSize(d, q):\n",
    "    '''\n",
    "    INPUT: d negative integer -> K:=Q(sqrt(d)), q in K\n",
    "    OUTPUT: denominator size 1/N(cfrak), where cfrak = (q) + afrak^(-1)\n",
    "    '''\n",
    "    if d not in ZZ or d>=0:\n",
    "        raise ValueError(\"first input should be a negative integer\")\n",
    "    K = QuadraticField(d)\n",
    "    OK = K.ideal(1)\n",
    "    if q not in K:\n",
    "        raise ValueError(\"second input should be an element of Q(first input)\")\n",
    "    alpha = q.numerator()\n",
    "    beta = q.denominator()\n",
    "    cfrak = alpha*OK + beta*OK #here we are implicitly writing q=a/b with a=q and b=1. This is as good as any other choice of a and b\n",
    "    D = beta^2/(cfrak.norm())\n",
    "    return D"
   ]
  },
  {
   "cell_type": "code",
   "execution_count": 2,
   "metadata": {},
   "outputs": [],
   "source": [
    "def find_equivalent_ideal_of_minimal_norm(d, c):\n",
    "    '''\n",
    "    INPUT: d negative integer -> K:=Q(sqrt(d)), c ideal in K\n",
    "    OUTPUT: ideal in the same class of c with minimal norm\n",
    "    '''\n",
    "    if d not in ZZ or d>=0:\n",
    "        raise ValueError(\"first input should be a negative integer\")\n",
    "    K = QuadraticField(d)\n",
    "    for a in K.ideals_of_bdd_norm(c.norm() - 1).items():\n",
    "        for ideala in a[1]:\n",
    "            if (ideala * c ** -1).is_principal():\n",
    "                if c.norm() <= ideala.norm():\n",
    "                    return c\n",
    "                return ideala\n",
    "    return c"
   ]
  },
  {
   "cell_type": "code",
   "execution_count": 3,
   "metadata": {},
   "outputs": [],
   "source": [
    "def cusp_representatives(d):\n",
    "    '''\n",
    "    INPUT: d negative integer -> K:=Q(sqrt(d))\n",
    "    OUTPUT: a list of h ideals, where h is the class number of K, chosen of smallest norm in each class \n",
    "    '''\n",
    "    if d not in ZZ or d>=0:\n",
    "        raise ValueError(\"first input should be a negative integer\")\n",
    "    K = QuadraticField(d)\n",
    "    cusp_reps = []\n",
    "    for ideal_class in K.class_group():\n",
    "        c = ideal_class.ideal()\n",
    "        c = find_equivalent_ideal_of_minimal_norm(d, c)\n",
    "        cusp_reps.append(c)\n",
    "    # We finally sort all representatives according to norm.\n",
    "    cusp_reps.sort(key=lambda x: x.norm())\n",
    "    return cusp_reps"
   ]
  },
  {
   "cell_type": "code",
   "execution_count": 4,
   "metadata": {},
   "outputs": [],
   "source": [
    "def algebraic_integers_bounded_norm(d, B):\n",
    "    '''\n",
    "    INPUT: d negative integer -> K:=Q(sqrt(d)), B non-negative integer\n",
    "    OUTPUT: list of algebraic integers in K of norm at most B\n",
    "    '''\n",
    "    if d not in ZZ or d>=0:\n",
    "        raise ValueError(\"first input should be a negative integer\")\n",
    "    K = QuadraticField(d)\n",
    "    if B not in ZZ or B<0:\n",
    "        raise ValueError(\"second input should be a non-negative integer\")\n",
    "    listofintegers = [0]\n",
    "    a = K.gen()\n",
    "    if d%4==1:\n",
    "        w = a/2+1/2\n",
    "    else:\n",
    "        w = a\n",
    "    units = [1, -1]\n",
    "    if d==-1:\n",
    "        units.extend([w,-w])\n",
    "    if d==-3:\n",
    "        units.extend([w,w-1,-w,-w+1])\n",
    "    listgens = []\n",
    "    dictideals = K.ideals_of_bdd_norm(B)\n",
    "    for norm in dictideals.keys():\n",
    "        for J in dictideals[norm]:\n",
    "            if J.is_principal():\n",
    "                gen = J.gens_reduced()[0]\n",
    "                if K(gen).norm()==norm:\n",
    "                    listgens.append(gen)\n",
    "                else:\n",
    "                    print('qualcosa `e andato storto :()')\n",
    "    for g in listgens:\n",
    "        listofintegers.extend([g*u for u in units])\n",
    "    return listofintegers"
   ]
  },
  {
   "cell_type": "code",
   "execution_count": 11,
   "metadata": {},
   "outputs": [],
   "source": [
    "def CuspSearch(d, N):\n",
    "    '''\n",
    "    INPUT: d negative integer -> K:=Q(sqrt(d)), N positive integer\n",
    "    OUTPUT: dictionary of cusps of K in the form (alpha, beta) keyed by denominator size\n",
    "    '''\n",
    "    if d not in ZZ or d>=0:\n",
    "        raise ValueError(\"first input should be a negative integer\")\n",
    "    K = QuadraticField(d)\n",
    "    if N not in ZZ or N<=0:\n",
    "        raise ValueError(\"second input should be positive integer\")\n",
    "    OK = K.ideal(1)\n",
    "    a = K.gen()\n",
    "    if d%4==1:\n",
    "        w = a/2+1/2\n",
    "    else:\n",
    "        w = a\n",
    "    R = (w+1).norm() #this is the radius that allows us to cover the fundametal parallelogram\n",
    "    Delta = K.discriminant()\n",
    "    B = floor(sqrt(abs(Delta)/3))\n",
    "    CuspGens = {} #dictionary to which we add i: [(alpha1,beta1), ..., (alphan,betan)], with alphaj/betaj of denominator size i\n",
    "    list_of_denoms = []\n",
    "    for beta in algebraic_integers_bounded_norm(d,B*N): #finds beta in K such that |beta|^2<=BN\n",
    "        if beta in OK and beta!=0: #restricts to beta in OK\n",
    "            for alpha in algebraic_integers_bounded_norm(d,R*K(beta).norm()): #finds alpha in K such that |a|^2<=|beta|^2R\n",
    "                if alpha in OK: #restricts to alpha in OK\n",
    "                    p = alpha/beta\n",
    "                    D = DenominatorSize(d, p)\n",
    "                    if D <= N: #check if the denominator size respects the bound\n",
    "                        if D not in list_of_denoms:\n",
    "                            list_of_denoms.append(D)\n",
    "                            CuspGens[D] = []\n",
    "                        if d%4==1:\n",
    "                            coord = p.list() #gives p in terms of 1 and a=sqrt(-d)\n",
    "                            c = [coord[0]-coord[1],2*coord[1]]  #gives p in terms of 1 and w=a/2+1/2\n",
    "                            if c[0]>=0 and c[0]<=1 and c[1]>=0 and c[1]<=1:#restricting to the fundamental parallelogram\n",
    "                                CuspGens[D].append((alpha,beta))\n",
    "                        else:\n",
    "                            c = p.list() #gives p in terms of 1 and a=sqrt(-2)\n",
    "                            if c[0]>=0 and c[0]<=1 and c[1]>=0 and c[1]<=1:#restricting to the fundamental parallelogram\n",
    "                                CuspGens[D].append((alpha,beta))\n",
    "    return CuspGens"
   ]
  },
  {
   "cell_type": "code",
   "execution_count": 6,
   "metadata": {},
   "outputs": [],
   "source": [
    "def PlotSnew(d, N):\n",
    "    '''\n",
    "    INPUT: d negative integer -> K:=Q(sqrt(d)), N positive integer for the level of the maximum denominator size\n",
    "    OUTPUT: plot of all points in K of denominator size at most N\n",
    "    '''\n",
    "    if d not in ZZ or d>=0:\n",
    "        raise ValueError(\"first input should be a negative integer\")\n",
    "    if N not in ZZ or N<=0:\n",
    "        raise ValueError(\"second input should be a positive integer\")\n",
    "    coordinates = []\n",
    "    cusps = CuspSearch(d, N)\n",
    "    denominators = cusps.keys()\n",
    "    for i in range(N):\n",
    "        if i+1 in denominators:\n",
    "            for cusp in cusps[i+1]:\n",
    "                p = cusp[0]/cusp[1]\n",
    "                coordinates.append((p.real(),p.imag()))\n",
    "    return point(coordinates)"
   ]
  },
  {
   "cell_type": "code",
   "execution_count": 7,
   "metadata": {},
   "outputs": [],
   "source": [
    "def SetSnew(d, N):\n",
    "    '''\n",
    "    INPUT: d negative integer -> K:=Q(sqrt(d)), N positive integer for the level of the maximum denominator size\n",
    "    OUTPUT: plot of all points in K of denominator size at most N\n",
    "    '''\n",
    "    if d not in ZZ or d>=0:\n",
    "        raise ValueError(\"first input should be a negative integer\")\n",
    "    if N not in ZZ or N<=0:\n",
    "        raise ValueError(\"second input should be a positive integer\")\n",
    "    coordinates = []\n",
    "    cusps = CuspSearch(d, N)\n",
    "    denominators = cusps.keys()\n",
    "    for i in range(N):\n",
    "        if i+1 in denominators:\n",
    "            for cusp in cusps[i+1]:\n",
    "                p = cusp[0]/cusp[1]\n",
    "                coordinates.append((p.real(),p.imag()))\n",
    "    return set(coordinates)"
   ]
  },
  {
   "cell_type": "code",
   "execution_count": 12,
   "metadata": {},
   "outputs": [
    {
     "data": {
      "image/png": "[encoded data removed]",
      "text/plain": [
       "Graphics object consisting of 1 graphics primitive"
      ]
     },
     "metadata": {},
     "output_type": "display_data"
    }
   ],
   "source": [
    "show(PlotSnew(-5,9),axes=False)"
   ]
  },
  {
   "cell_type": "code",
   "execution_count": 13,
   "metadata": {},
   "outputs": [
    {
     "data": {
      "image/png": "[encoded data removed]",
      "text/plain": [
       "Graphics object consisting of 1 graphics primitive"
      ]
     },
     "metadata": {},
     "output_type": "display_data"
    }
   ],
   "source": [
    "show(PlotSnew(-7,9),axes=False)"
   ]
  },
  {
   "cell_type": "code",
   "execution_count": 14,
   "metadata": {},
   "outputs": [
    {
     "data": {
      "image/png": "[encoded data removed]",
      "text/plain": [
       "Graphics object consisting of 1 graphics primitive"
      ]
     },
     "metadata": {},
     "output_type": "display_data"
    }
   ],
   "source": [
    "show(PlotSnew(-137,10),axes=False)"
   ]
  }
 ],
 "metadata": {
  "kernelspec": {
   "display_name": "SageMath 9.5",
   "language": "sage",
   "name": "sagemath"
  },
  "language_info": {
   "codemirror_mode": {
    "name": "ipython",
    "version": 3
   },
   "file_extension": ".py",
   "mimetype": "text/x-python",
   "name": "python",
   "nbconvert_exporter": "python",
   "pygments_lexer": "ipython3",
   "version": "3.10.12"
  }
 },
 "nbformat": 4,
 "nbformat_minor": 2
}
